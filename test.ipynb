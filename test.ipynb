{
 "cells": [
  {
   "cell_type": "code",
   "execution_count": 4,
   "id": "6c5cc64a",
   "metadata": {},
   "outputs": [
    {
     "name": "stdout",
     "output_type": "stream",
     "text": [
      "7683 b'\\x03\\x1e'\n",
      "7692 b'\\x0c\\x1e'\n",
      "176 b'\\xb0\\x00'\n",
      "7968 b' \\x1f'\n",
      "32768 b'\\x00\\x80'\n",
      "Finish compile!!!\n"
     ]
    }
   ],
   "source": [
    "import os\n",
    "\n",
    "WE_A = 2 ** 0  # 寄存器A的WE位接0位，使能为1\n",
    "CS_A = 2 ** 1  # 寄存器A的CS位接1位，使能为1\n",
    "\n",
    "WE_B = 2 ** 2  # 寄存器B的WE位接2位，使能为1\n",
    "CS_B = 2 ** 3  # 寄存器B的CS位接3位，使能为1\n",
    "\n",
    "WE_C = 2 ** 4  # 寄存器C的WE位接4位，使能为1\n",
    "CS_C = 2 ** 5  # 寄存器C的CS位接5位，使能为1\n",
    "\n",
    "ALU_ADD = 0    # ALU单元的OP接6位，设为0 加法\n",
    "ALU_SUB = 2 ** 6 # ALU单元的OP接6位，设为1 减法\n",
    "ALU_OUT = 2 ** 7 # ALU单元的EN接7位，使能为1\n",
    "\n",
    "WE_M = 2 ** 8  # RAM的总线隔离WE位接8位，使能为1\n",
    "CS_M = 2 ** 9  # RAM的总线隔离CS位接9位，使能为1\n",
    "\n",
    "WE_PC = 2 ** 10 # PC计数器的WE位接10位，使能为1\n",
    "EN_PC = 2 ** 11 # PC计数器的EN位接11位，使能为1\n",
    "CS_PC = 2 ** 12 # PC计数器的CS位接12位，使能为1\n",
    "\n",
    "HLT = 2 ** 15   # 程序停止HLT位接15位，使能为1 程序停止\n",
    "\n",
    "\n",
    "\n",
    "\n",
    "micro=[\n",
    "    CS_M | CS_A | WE_A | WE_PC | EN_PC | CS_PC,\n",
    "    CS_M | CS_B | WE_B | WE_PC | EN_PC | CS_PC,\n",
    "    ALU_ADD | ALU_OUT | CS_C | WE_C,\n",
    "    CS_C | WE_M | CS_M | WE_PC | EN_PC | CS_PC,\n",
    "    HLT,\n",
    "]\n",
    "\n",
    "#dirname = os.path.dirname(os.path.abspath(__file__))\n",
    "with open(os.path.join('D:\\8位二进制cpu的设计与实现','ins.bin'),'wb') as file:\n",
    "        for value in micro:\n",
    "            result = value.to_bytes(2, byteorder='little')\n",
    "            file.write(result)\n",
    "            print(value, result)\n",
    "\n",
    "print('Finish compile!!!')"
   ]
  },
  {
   "cell_type": "code",
   "execution_count": 1,
   "id": "602e2450",
   "metadata": {},
   "outputs": [],
   "source": [
    "import os\n",
    "\n",
    "\n",
    "filename = os.path.join('D:\\8位二进制cpu的设计与实现','532decoder.bin')\n",
    "\n",
    "with open(filename,'wb') as file:\n",
    "    for var in range(32):\n",
    "        value = 1<<var\n",
    "        result = value.to_bytes(4,byteorder='little')\n",
    "        file.write(result)\n",
    "\n"
   ]
  },
  {
   "cell_type": "code",
   "execution_count": 7,
   "id": "fb25e65c",
   "metadata": {},
   "outputs": [
    {
     "name": "stdout",
     "output_type": "stream",
     "text": [
      "pandoc -s \"D:\\Pandoc\\ji.md\" -o \"D:\\Pandoc\\ji.doc\"\n"
     ]
    }
   ],
   "source": [
    "import sys\n",
    "import os\n",
    "\n",
    "NEW_EXT = '.doc'\n",
    "# pandoc -s test.md -o test.docx\n",
    "# 'pandoc -s \"%s\" -o \"%s\"'\n",
    "\n",
    "def trans_md(name):\n",
    "    '''\n",
    "    拼接改名命令\n",
    "    '''\n",
    "    # 获取完整文件名\n",
    "    name_split = name.split('\\\\')\n",
    "    name_split = name_split[len(name_split)-1].split('.')\n",
    "    # 获取扩展名\n",
    "    if len(name_split) > 1:\n",
    "        ext_name = name_split[len(name_split) - 1]\n",
    "    # 替换扩展名\n",
    "    len_file_name = len(name) - len(ext_name) - 1\n",
    "    new_name = name[0:len_file_name] + NEW_EXT\n",
    "    # 拼接命令行\n",
    "    cmd = 'pandoc -s \"%s\" -o \"%s\"' % (name, new_name)\n",
    "    print(cmd)\n",
    "    os.system(cmd)\n",
    "\n",
    "\n",
    "trans_md(\"D:\\Pandoc\\ji.md\")"
   ]
  },
  {
   "cell_type": "code",
   "execution_count": null,
   "id": "83288d90",
   "metadata": {},
   "outputs": [],
   "source": []
  }
 ],
 "metadata": {
  "kernelspec": {
   "display_name": "Python 3",
   "language": "python",
   "name": "python3"
  },
  "language_info": {
   "codemirror_mode": {
    "name": "ipython",
    "version": 3
   },
   "file_extension": ".py",
   "mimetype": "text/x-python",
   "name": "python",
   "nbconvert_exporter": "python",
   "pygments_lexer": "ipython3",
   "version": "3.7.10"
  }
 },
 "nbformat": 4,
 "nbformat_minor": 5
}
